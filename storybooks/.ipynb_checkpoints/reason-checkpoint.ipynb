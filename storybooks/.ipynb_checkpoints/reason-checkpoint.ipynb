{
 "cells": [
  {
   "cell_type": "code",
   "execution_count": 1,
   "id": "cc4b3c55-f5dd-4027-9902-acd87c835b39",
   "metadata": {},
   "outputs": [],
   "source": [
    "import numpy as np\n",
    "import pandas as pd\n",
    "import matplotlib.pyplot as plt\n",
    "from sklearn.model_selection import train_test_split\n",
    "from sklearn import svm\n",
    "from sklearn.tree import DecisionTreeClassifier\n",
    "from sklearn.metrics import confusion_matrix, plot_confusion_matrix\n",
    "from sklearn.metrics import accuracy_score, precision_score, recall_score, f1_score\n",
    "\n",
    "import warnings\n",
    "warnings.simplefilter(\"ignore\")"
   ]
  },
  {
   "cell_type": "code",
   "execution_count": 2,
   "id": "283dc3fe-2c28-4bab-983c-47c105867ebe",
   "metadata": {},
   "outputs": [],
   "source": [
    "dataset = pd.read_csv(\"../input/dataset.csv\")\n",
    "x = dataset.iloc[:, :-1].values\n",
    "y = dataset.iloc[:, -1].values"
   ]
  },
  {
   "cell_type": "code",
   "execution_count": 3,
   "id": "b6e100ef-eb82-4eb5-b7ac-025b6bcbdde4",
   "metadata": {},
   "outputs": [],
   "source": [
    "x_train, x_test, y_train, y_test = train_test_split(x, y, test_size=0.20, random_state=50)"
   ]
  },
  {
   "cell_type": "code",
   "execution_count": 4,
   "id": "23888bdc-9808-4fe0-bfac-d36e150f5781",
   "metadata": {},
   "outputs": [
    {
     "data": {
      "text/plain": [
       "SVC(decision_function_shape='ovo')"
      ]
     },
     "execution_count": 4,
     "metadata": {},
     "output_type": "execute_result"
    }
   ],
   "source": [
    "clf1 = svm.SVC(decision_function_shape='ovo')\n",
    "clf1.fit(x_train, y_train)"
   ]
  },
  {
   "cell_type": "code",
   "execution_count": 5,
   "id": "b1fc04ab-ab50-4c9f-8cb5-704fe6ccffed",
   "metadata": {},
   "outputs": [],
   "source": [
    "y_pred_svm = clf1.predict(x_test)"
   ]
  },
  {
   "cell_type": "code",
   "execution_count": 6,
   "id": "65b3695d-55c2-4af5-aeb1-8abf1a06a832",
   "metadata": {},
   "outputs": [
    {
     "name": "stdout",
     "output_type": "stream",
     "text": [
      "\n",
      "Accuracy: 0.78\n",
      "\n",
      "Micro Precision: 0.76\n",
      "Micro Recall: 0.78\n",
      "Micro F1-score: 0.74\n",
      "\n"
     ]
    }
   ],
   "source": [
    "print('\\nAccuracy: {:.2f}\\n'.format(accuracy_score(y_test, y_pred_svm)))\n",
    "\n",
    "print('Micro Precision: {:.2f}'.format(precision_score(y_test, y_pred_svm, average='weighted')))\n",
    "print('Micro Recall: {:.2f}'.format(recall_score(y_test, y_pred_svm, average='weighted')))\n",
    "print('Micro F1-score: {:.2f}\\n'.format(f1_score(y_test, y_pred_svm, average='weighted')))"
   ]
  },
  {
   "cell_type": "code",
   "execution_count": 7,
   "id": "c5f70f8d-6698-4c4f-aeca-fb91239deeaf",
   "metadata": {},
   "outputs": [
    {
     "name": "stdout",
     "output_type": "stream",
     "text": [
      "Confusion Matrix\n",
      "\n",
      "[[29  0  0  0  0  1]\n",
      " [ 0 11  0  0  0  1]\n",
      " [ 0  0 12  0  0  0]\n",
      " [ 0  8  0  0  0  0]\n",
      " [ 2  4  0  0  3  0]\n",
      " [ 0  0  0  0  0  3]]\n"
     ]
    }
   ],
   "source": [
    "confusion_1 = confusion_matrix(y_test, y_pred_svm)\n",
    "print('Confusion Matrix\\n')\n",
    "print(confusion_1)"
   ]
  },
  {
   "cell_type": "code",
   "execution_count": 8,
   "id": "3d65b9ce-a842-457a-a883-447ec69c66e0",
   "metadata": {},
   "outputs": [
    {
     "name": "stdout",
     "output_type": "stream",
     "text": [
      "[[ 1 30]\n",
      " [ 2 12]\n",
      " [ 3 12]\n",
      " [ 4  8]\n",
      " [ 5  9]\n",
      " [ 6  3]]\n"
     ]
    }
   ],
   "source": [
    "unique, counts = np.unique(y_test, return_counts=True)\n",
    "print(np.asarray((unique, counts)).T)"
   ]
  },
  {
   "cell_type": "code",
   "execution_count": 9,
   "id": "72fa74da-4bcc-4a9c-8365-025276b2a5b7",
   "metadata": {},
   "outputs": [],
   "source": [
    "clf2 = DecisionTreeClassifier(max_depth = 10).fit(x_train, y_train)\n",
    "y_pred_dt = clf2.predict(x_test)"
   ]
  },
  {
   "cell_type": "code",
   "execution_count": 10,
   "id": "8c3bc0bb-3638-48d4-af6b-0549a9564c72",
   "metadata": {},
   "outputs": [
    {
     "name": "stdout",
     "output_type": "stream",
     "text": [
      "Confusion Matrix\n",
      "\n",
      "[[27  2  0  1  0  0]\n",
      " [ 0 11  0  1  0  0]\n",
      " [ 0  0 11  1  0  0]\n",
      " [ 0  0  0  8  0  0]\n",
      " [ 0  0  0  0  9  0]\n",
      " [ 0  0  0  0  0  3]]\n"
     ]
    }
   ],
   "source": [
    "confusion_2 = confusion_matrix(y_test, y_pred_dt)\n",
    "print('Confusion Matrix\\n')\n",
    "print(confusion_2)"
   ]
  },
  {
   "cell_type": "code",
   "execution_count": 11,
   "id": "6aabbc1c-43fb-4860-b40e-f9d0182abe56",
   "metadata": {},
   "outputs": [
    {
     "name": "stdout",
     "output_type": "stream",
     "text": [
      "\n",
      "Accuracy: 0.93\n",
      "\n",
      "Micro Precision: 0.95\n",
      "Micro Recall: 0.93\n",
      "Micro F1-score: 0.94\n",
      "\n"
     ]
    }
   ],
   "source": [
    "print('\\nAccuracy: {:.2f}\\n'.format(accuracy_score(y_test, y_pred_dt)))\n",
    "\n",
    "print('Micro Precision: {:.2f}'.format(precision_score(y_test, y_pred_dt, average='weighted')))\n",
    "print('Micro Recall: {:.2f}'.format(recall_score(y_test, y_pred_dt, average='weighted')))\n",
    "print('Micro F1-score: {:.2f}\\n'.format(f1_score(y_test, y_pred_dt, average='weighted')))"
   ]
  },
  {
   "cell_type": "code",
   "execution_count": 36,
   "id": "4936bdfb-c68f-420c-9661-457e1426f191",
   "metadata": {},
   "outputs": [
    {
     "data": {
      "image/png": "[encoded data removed]",
      "text/plain": [
       "<Figure size 1440x432 with 4 Axes>"
      ]
     },
     "metadata": {
      "needs_background": "light"
     },
     "output_type": "display_data"
    }
   ],
   "source": [
    "fig, (ax1, ax2) = plt.subplots(1, 2, figsize=(20, 6))\n",
    "plot_confusion_matrix(clf1, x_test, y_test, ax=ax1)\n",
    "ax1.set_title(\"SVM\")\n",
    "plot_confusion_matrix(clf2, x_test, y_test, ax=ax2)\n",
    "ax2.set_title(\"DT\")\n",
    "fig.text(0.5, 1, \"Heterogeneous ('Support Vector vs Decision Tree')\", verticalalignment ='center', horizontalalignment ='center', fontsize = 20);\n",
    "fig.savefig(\"Heterogeneous Difference\", dpi=1000)"
   ]
  },
  {
   "cell_type": "code",
   "execution_count": null,
   "id": "13e75241-4251-468f-beee-fb0e905c5e19",
   "metadata": {},
   "outputs": [],
   "source": []
  }
 ],
 "metadata": {
  "kernelspec": {
   "display_name": "Python 3 (ipykernel)",
   "language": "python",
   "name": "python3"
  },
  "language_info": {
   "codemirror_mode": {
    "name": "ipython",
    "version": 3
   },
   "file_extension": ".py",
   "mimetype": "text/x-python",
   "name": "python",
   "nbconvert_exporter": "python",
   "pygments_lexer": "ipython3",
   "version": "3.9.7"
  }
 },
 "nbformat": 4,
 "nbformat_minor": 5
}
